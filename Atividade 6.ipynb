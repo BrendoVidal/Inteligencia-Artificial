{
 "cells": [
  {
   "cell_type": "markdown",
   "id": "9d3e160d",
   "metadata": {},
   "source": [
    "# Inteligência Artificial - Laboratório 11 - Agrupamento K-Means usando Python\n",
    "## Aluno: Brendo Bubela Vidal"
   ]
  },
  {
   "cell_type": "code",
   "execution_count": 1,
   "id": "8c79948a",
   "metadata": {},
   "outputs": [],
   "source": [
    "# Importação de Bibliotecas\n",
    "import matplotlib.pyplot as plt\n",
    "import pandas as pd\n",
    "from sklearn.cluster import KMeans\n",
    "import warnings\n",
    "warnings.filterwarnings('ignore')"
   ]
  },
  {
   "cell_type": "code",
   "execution_count": 2,
   "id": "9c07e6f6",
   "metadata": {},
   "outputs": [
    {
     "data": {
      "text/html": [
       "<div>\n",
       "<style scoped>\n",
       "    .dataframe tbody tr th:only-of-type {\n",
       "        vertical-align: middle;\n",
       "    }\n",
       "\n",
       "    .dataframe tbody tr th {\n",
       "        vertical-align: top;\n",
       "    }\n",
       "\n",
       "    .dataframe thead th {\n",
       "        text-align: right;\n",
       "    }\n",
       "</style>\n",
       "<table border=\"1\" class=\"dataframe\">\n",
       "  <thead>\n",
       "    <tr style=\"text-align: right;\">\n",
       "      <th></th>\n",
       "      <th>0</th>\n",
       "      <th>0.1</th>\n",
       "      <th>0.2</th>\n",
       "      <th>1</th>\n",
       "      <th>0.3</th>\n",
       "      <th>0.4</th>\n",
       "      <th>0.5</th>\n",
       "      <th>1.1</th>\n",
       "      <th>1.2</th>\n",
       "      <th>0.6</th>\n",
       "      <th>...</th>\n",
       "      <th>1.4</th>\n",
       "      <th>0.11</th>\n",
       "      <th>0.12</th>\n",
       "      <th>1.5</th>\n",
       "      <th>0.13</th>\n",
       "      <th>0.14</th>\n",
       "      <th>1.6</th>\n",
       "      <th>0.15</th>\n",
       "      <th>0.16</th>\n",
       "      <th>0.17</th>\n",
       "    </tr>\n",
       "  </thead>\n",
       "  <tbody>\n",
       "    <tr>\n",
       "      <th>0</th>\n",
       "      <td>0</td>\n",
       "      <td>0</td>\n",
       "      <td>0</td>\n",
       "      <td>1</td>\n",
       "      <td>0</td>\n",
       "      <td>0</td>\n",
       "      <td>0</td>\n",
       "      <td>1</td>\n",
       "      <td>1</td>\n",
       "      <td>0</td>\n",
       "      <td>...</td>\n",
       "      <td>1</td>\n",
       "      <td>0</td>\n",
       "      <td>0</td>\n",
       "      <td>0</td>\n",
       "      <td>1</td>\n",
       "      <td>0</td>\n",
       "      <td>1</td>\n",
       "      <td>0</td>\n",
       "      <td>0</td>\n",
       "      <td>0</td>\n",
       "    </tr>\n",
       "    <tr>\n",
       "      <th>1</th>\n",
       "      <td>0</td>\n",
       "      <td>0</td>\n",
       "      <td>0</td>\n",
       "      <td>1</td>\n",
       "      <td>0</td>\n",
       "      <td>0</td>\n",
       "      <td>0</td>\n",
       "      <td>1</td>\n",
       "      <td>1</td>\n",
       "      <td>0</td>\n",
       "      <td>...</td>\n",
       "      <td>1</td>\n",
       "      <td>0</td>\n",
       "      <td>0</td>\n",
       "      <td>0</td>\n",
       "      <td>0</td>\n",
       "      <td>1</td>\n",
       "      <td>1</td>\n",
       "      <td>0</td>\n",
       "      <td>0</td>\n",
       "      <td>0</td>\n",
       "    </tr>\n",
       "    <tr>\n",
       "      <th>2</th>\n",
       "      <td>0</td>\n",
       "      <td>0</td>\n",
       "      <td>0</td>\n",
       "      <td>1</td>\n",
       "      <td>0</td>\n",
       "      <td>0</td>\n",
       "      <td>0</td>\n",
       "      <td>1</td>\n",
       "      <td>1</td>\n",
       "      <td>0</td>\n",
       "      <td>...</td>\n",
       "      <td>0</td>\n",
       "      <td>1</td>\n",
       "      <td>0</td>\n",
       "      <td>1</td>\n",
       "      <td>0</td>\n",
       "      <td>0</td>\n",
       "      <td>1</td>\n",
       "      <td>0</td>\n",
       "      <td>0</td>\n",
       "      <td>0</td>\n",
       "    </tr>\n",
       "    <tr>\n",
       "      <th>3</th>\n",
       "      <td>0</td>\n",
       "      <td>0</td>\n",
       "      <td>0</td>\n",
       "      <td>1</td>\n",
       "      <td>0</td>\n",
       "      <td>0</td>\n",
       "      <td>0</td>\n",
       "      <td>1</td>\n",
       "      <td>1</td>\n",
       "      <td>0</td>\n",
       "      <td>...</td>\n",
       "      <td>0</td>\n",
       "      <td>1</td>\n",
       "      <td>0</td>\n",
       "      <td>0</td>\n",
       "      <td>1</td>\n",
       "      <td>0</td>\n",
       "      <td>1</td>\n",
       "      <td>0</td>\n",
       "      <td>0</td>\n",
       "      <td>0</td>\n",
       "    </tr>\n",
       "    <tr>\n",
       "      <th>4</th>\n",
       "      <td>0</td>\n",
       "      <td>0</td>\n",
       "      <td>0</td>\n",
       "      <td>1</td>\n",
       "      <td>0</td>\n",
       "      <td>0</td>\n",
       "      <td>0</td>\n",
       "      <td>1</td>\n",
       "      <td>1</td>\n",
       "      <td>0</td>\n",
       "      <td>...</td>\n",
       "      <td>0</td>\n",
       "      <td>1</td>\n",
       "      <td>0</td>\n",
       "      <td>0</td>\n",
       "      <td>0</td>\n",
       "      <td>1</td>\n",
       "      <td>1</td>\n",
       "      <td>0</td>\n",
       "      <td>0</td>\n",
       "      <td>0</td>\n",
       "    </tr>\n",
       "  </tbody>\n",
       "</table>\n",
       "<p>5 rows × 25 columns</p>\n",
       "</div>"
      ],
      "text/plain": [
       "   0  0.1  0.2  1  0.3  0.4  0.5  1.1  1.2  0.6  ...  1.4  0.11  0.12  1.5  \\\n",
       "0  0    0    0  1    0    0    0    1    1    0  ...    1     0     0    0   \n",
       "1  0    0    0  1    0    0    0    1    1    0  ...    1     0     0    0   \n",
       "2  0    0    0  1    0    0    0    1    1    0  ...    0     1     0    1   \n",
       "3  0    0    0  1    0    0    0    1    1    0  ...    0     1     0    0   \n",
       "4  0    0    0  1    0    0    0    1    1    0  ...    0     1     0    0   \n",
       "\n",
       "   0.13  0.14  1.6  0.15  0.16  0.17  \n",
       "0     1     0    1     0     0     0  \n",
       "1     0     1    1     0     0     0  \n",
       "2     0     0    1     0     0     0  \n",
       "3     1     0    1     0     0     0  \n",
       "4     0     1    1     0     0     0  \n",
       "\n",
       "[5 rows x 25 columns]"
      ]
     },
     "execution_count": 2,
     "metadata": {},
     "output_type": "execute_result"
    }
   ],
   "source": [
    "#Leitura do arquivo cars.csv\n",
    "url = 'https://raw.githubusercontent.com/BrendoVidal/Inteligencia-Artificial/main/cars.csv'\n",
    "df = pd.read_csv(url, delimiter=';', error_bad_lines=False)\n",
    "df.head()"
   ]
  },
  {
   "cell_type": "code",
   "execution_count": 3,
   "id": "3b6eac09",
   "metadata": {},
   "outputs": [
    {
     "data": {
      "text/plain": [
       "(1727, 25)"
      ]
     },
     "execution_count": 3,
     "metadata": {},
     "output_type": "execute_result"
    }
   ],
   "source": [
    "#Informações quantitativas do dataset: 1727 linhas e 25 colunas\n",
    "df.shape"
   ]
  },
  {
   "cell_type": "code",
   "execution_count": 4,
   "id": "c7c41c6b",
   "metadata": {},
   "outputs": [
    {
     "data": {
      "text/plain": [
       "KMeans(init='random', n_clusters=3)"
      ]
     },
     "execution_count": 4,
     "metadata": {},
     "output_type": "execute_result"
    }
   ],
   "source": [
    "# Criação do modelo de Agrupamento (Clustering) usando K-Means\n",
    "# Parametrizando K-Means com 3 Clusters e Metodo de Inicialização Randômica\n",
    "kmeans = KMeans(n_clusters = 3, init = 'random')\n",
    "kmeans"
   ]
  },
  {
   "cell_type": "code",
   "execution_count": 5,
   "id": "5678ed92",
   "metadata": {},
   "outputs": [
    {
     "data": {
      "text/plain": [
       "KMeans(init='random', n_clusters=3)"
      ]
     },
     "execution_count": 5,
     "metadata": {},
     "output_type": "execute_result"
    }
   ],
   "source": [
    "# Treino do modelo com os Dados\n",
    "kmeans.fit(df)"
   ]
  },
  {
   "cell_type": "code",
   "execution_count": 6,
   "id": "498f963d",
   "metadata": {},
   "outputs": [
    {
     "data": {
      "text/plain": [
       "array([[ 3.35907336e-01,  3.16602317e-01,  2.08494208e-01,\n",
       "         1.38996139e-01,  3.16602317e-01,  3.16602317e-01,\n",
       "         2.27799228e-01,  1.38996139e-01,  2.04633205e-01,\n",
       "         2.54826255e-01,  2.70270270e-01,  2.70270270e-01,\n",
       "         4.44089210e-16,  5.09652510e-01,  4.90347490e-01,\n",
       "         2.43243243e-01,  3.55212355e-01,  4.01544402e-01,\n",
       "         4.44089210e-16,  4.22779923e-01,  5.77220077e-01,\n",
       "        -3.33066907e-16,  7.41312741e-01,  1.33204633e-01,\n",
       "         1.25482625e-01],\n",
       "       [ 1.79810726e-01,  1.95583596e-01,  2.83911672e-01,\n",
       "         3.40694006e-01,  1.95583596e-01,  1.95583596e-01,\n",
       "         2.68138801e-01,  3.40694006e-01,  2.87066246e-01,\n",
       "         2.46056782e-01,  2.33438486e-01,  2.33438486e-01,\n",
       "         1.66533454e-16,  4.92113565e-01,  5.07886435e-01,\n",
       "         4.06940063e-01,  3.15457413e-01,  2.77602524e-01,\n",
       "         6.05678233e-01,  2.60252366e-01,  1.34069401e-01,\n",
       "         1.00000000e+00,  3.33066907e-16,  4.16333634e-17,\n",
       "        -6.93889390e-18],\n",
       "       [ 2.50434783e-01,  2.50434783e-01,  2.50434783e-01,\n",
       "         2.48695652e-01,  2.50434783e-01,  2.50434783e-01,\n",
       "         2.50434783e-01,  2.48695652e-01,  2.48695652e-01,\n",
       "         2.50434783e-01,  2.50434783e-01,  2.50434783e-01,\n",
       "         1.00000000e+00,  2.22044605e-16,  2.22044605e-16,\n",
       "         3.32173913e-01,  3.33913043e-01,  3.33913043e-01,\n",
       "         3.32173913e-01,  3.33913043e-01,  3.33913043e-01,\n",
       "         1.00000000e+00,  2.77555756e-16,  4.16333634e-17,\n",
       "        -1.38777878e-17]])"
      ]
     },
     "execution_count": 6,
     "metadata": {},
     "output_type": "execute_result"
    }
   ],
   "source": [
    "# Exibindo os Centroids - São 3 grupos, portanto, 3 linhas com 8 colunas = 8 features\n",
    "kmeans.cluster_centers_"
   ]
  },
  {
   "cell_type": "code",
   "execution_count": 7,
   "id": "32023dbd",
   "metadata": {},
   "outputs": [
    {
     "data": {
      "text/plain": [
       "KMeans(init='random', n_clusters=3)"
      ]
     },
     "execution_count": 7,
     "metadata": {},
     "output_type": "execute_result"
    }
   ],
   "source": [
    "# Treinando novamente o modelo com os Dados - Observe que novos Centroids são calculados (inicialização randômica!)\n",
    "kmeans.fit(df)"
   ]
  },
  {
   "cell_type": "code",
   "execution_count": 8,
   "id": "904b5741",
   "metadata": {},
   "outputs": [
    {
     "data": {
      "text/plain": [
       "array([[ 2.50434783e-01,  2.50434783e-01,  2.50434783e-01,\n",
       "         2.48695652e-01,  2.50434783e-01,  2.50434783e-01,\n",
       "         2.50434783e-01,  2.48695652e-01,  2.48695652e-01,\n",
       "         2.50434783e-01,  2.50434783e-01,  2.50434783e-01,\n",
       "         1.00000000e+00,  2.22044605e-16,  2.22044605e-16,\n",
       "         3.32173913e-01,  3.33913043e-01,  3.33913043e-01,\n",
       "         3.32173913e-01,  3.33913043e-01,  3.33913043e-01,\n",
       "         1.00000000e+00,  3.05311332e-16,  4.16333634e-17,\n",
       "        -1.38777878e-17],\n",
       "       [ 3.35907336e-01,  3.16602317e-01,  2.08494208e-01,\n",
       "         1.38996139e-01,  3.16602317e-01,  3.16602317e-01,\n",
       "         2.27799228e-01,  1.38996139e-01,  2.04633205e-01,\n",
       "         2.54826255e-01,  2.70270270e-01,  2.70270270e-01,\n",
       "         4.44089210e-16,  5.09652510e-01,  4.90347490e-01,\n",
       "         2.43243243e-01,  3.55212355e-01,  4.01544402e-01,\n",
       "         4.44089210e-16,  4.22779923e-01,  5.77220077e-01,\n",
       "        -3.33066907e-16,  7.41312741e-01,  1.33204633e-01,\n",
       "         1.25482625e-01],\n",
       "       [ 1.79810726e-01,  1.95583596e-01,  2.83911672e-01,\n",
       "         3.40694006e-01,  1.95583596e-01,  1.95583596e-01,\n",
       "         2.68138801e-01,  3.40694006e-01,  2.87066246e-01,\n",
       "         2.46056782e-01,  2.33438486e-01,  2.33438486e-01,\n",
       "         1.66533454e-16,  4.92113565e-01,  5.07886435e-01,\n",
       "         4.06940063e-01,  3.15457413e-01,  2.77602524e-01,\n",
       "         6.05678233e-01,  2.60252366e-01,  1.34069401e-01,\n",
       "         1.00000000e+00,  3.33066907e-16,  4.16333634e-17,\n",
       "        -6.93889390e-18]])"
      ]
     },
     "execution_count": 8,
     "metadata": {},
     "output_type": "execute_result"
    }
   ],
   "source": [
    "# Exibindo os Centroids - São 3 grupos, portanto, 3 linhas com 8 colunas = 8 features\n",
    "kmeans.cluster_centers_"
   ]
  },
  {
   "cell_type": "code",
   "execution_count": 9,
   "id": "4064c9c4",
   "metadata": {},
   "outputs": [
    {
     "data": {
      "text/plain": [
       "array([[2.72853075, 2.19254136, 1.89534421],\n",
       "       [2.67132921, 2.24935625, 1.89534421],\n",
       "       [2.84015874, 2.07348768, 1.89534421],\n",
       "       ...,\n",
       "       [2.47241456, 2.01953732, 2.36260341],\n",
       "       [2.23626131, 2.60180374, 2.75289241],\n",
       "       [2.16966088, 2.64985823, 2.75289241]])"
      ]
     },
     "execution_count": 9,
     "metadata": {},
     "output_type": "execute_result"
    }
   ],
   "source": [
    "# Executa K-Means para agrupar os dados e retorna Tabela de Distancias (fit_transform)\n",
    "# Calcula a distância entre os dados de cada linha (instância) e cada um dos 3 clusters\n",
    "distance = kmeans.fit_transform(df)\n",
    "distance"
   ]
  },
  {
   "cell_type": "code",
   "execution_count": 10,
   "id": "578af724",
   "metadata": {},
   "outputs": [
    {
     "data": {
      "text/plain": [
       "array([2, 2, 2, ..., 1, 0, 0])"
      ]
     },
     "execution_count": 10,
     "metadata": {},
     "output_type": "execute_result"
    }
   ],
   "source": [
    "# Para cada uma das 100 linhas do dataset, a qual dos 3 clusters ela pertence..0, 1 ou 2 ?\n",
    "# São 100 elementos no array, um por linha\n",
    "labels = kmeans.labels_\n",
    "labels"
   ]
  },
  {
   "cell_type": "code",
   "execution_count": 11,
   "id": "f58ba888",
   "metadata": {},
   "outputs": [
    {
     "data": {
      "text/plain": [
       "array([[ 3.35907336e-01,  3.16602317e-01,  2.08494208e-01,\n",
       "         1.38996139e-01,  3.16602317e-01,  3.16602317e-01,\n",
       "         2.27799228e-01,  1.38996139e-01,  2.04633205e-01,\n",
       "         2.54826255e-01,  2.70270270e-01,  2.70270270e-01,\n",
       "         3.88578059e-16,  5.09652510e-01,  4.90347490e-01,\n",
       "         2.43243243e-01,  3.55212355e-01,  4.01544402e-01,\n",
       "         3.88578059e-16,  4.22779923e-01,  5.77220077e-01,\n",
       "        -2.22044605e-16,  7.41312741e-01,  1.33204633e-01,\n",
       "         1.25482625e-01],\n",
       "       [ 1.79810726e-01,  1.95583596e-01,  2.83911672e-01,\n",
       "         3.40694006e-01,  1.95583596e-01,  1.95583596e-01,\n",
       "         2.68138801e-01,  3.40694006e-01,  2.87066246e-01,\n",
       "         2.46056782e-01,  2.33438486e-01,  2.33438486e-01,\n",
       "         1.66533454e-16,  4.92113565e-01,  5.07886435e-01,\n",
       "         4.06940063e-01,  3.15457413e-01,  2.77602524e-01,\n",
       "         6.05678233e-01,  2.60252366e-01,  1.34069401e-01,\n",
       "         1.00000000e+00,  3.60822483e-16,  4.85722573e-17,\n",
       "        -6.93889390e-18],\n",
       "       [ 2.50434783e-01,  2.50434783e-01,  2.50434783e-01,\n",
       "         2.48695652e-01,  2.50434783e-01,  2.50434783e-01,\n",
       "         2.50434783e-01,  2.48695652e-01,  2.48695652e-01,\n",
       "         2.50434783e-01,  2.50434783e-01,  2.50434783e-01,\n",
       "         1.00000000e+00,  2.22044605e-16,  2.22044605e-16,\n",
       "         3.32173913e-01,  3.33913043e-01,  3.33913043e-01,\n",
       "         3.32173913e-01,  3.33913043e-01,  3.33913043e-01,\n",
       "         1.00000000e+00,  2.77555756e-16,  4.16333634e-17,\n",
       "        -1.38777878e-17]])"
      ]
     },
     "execution_count": 11,
     "metadata": {},
     "output_type": "execute_result"
    }
   ],
   "source": [
    "# Exibindo novamente os Centroids (atualizados) - São 3 grupos, portanto, 3 linhas com 8 colunas = 8 features\n",
    "kmeans.cluster_centers_"
   ]
  },
  {
   "cell_type": "code",
   "execution_count": 12,
   "id": "266e6cb7",
   "metadata": {},
   "outputs": [
    {
     "name": "stdout",
     "output_type": "stream",
     "text": [
      "1 8129.791546033569\n",
      "2 7253.871395677848\n",
      "3 6752.173914801609\n",
      "4 6442.1966955379785\n",
      "5 6283.928040250858\n",
      "6 6052.088312134341\n",
      "7 5815.2822134820435\n",
      "8 5696.370510902172\n",
      "9 5583.461572999045\n",
      "10 5425.624300521389\n"
     ]
    }
   ],
   "source": [
    "# Cálculo do WCSSE - Within Cluster Sum of Squared Errors\n",
    "wcsse = []\n",
    "maxclusters = 11\n",
    "for i in range(1, maxclusters):\n",
    "    kmeans = KMeans(n_clusters = i, init = 'random')\n",
    "    kmeans.fit(df)\n",
    "    print (i,kmeans.inertia_)\n",
    "    wcsse.append(kmeans.inertia_)"
   ]
  },
  {
   "cell_type": "code",
   "execution_count": 13,
   "id": "4e022640",
   "metadata": {},
   "outputs": [
    {
     "data": {
      "image/png": "[encoded data removed]",
      "text/plain": [
       "<Figure size 432x288 with 1 Axes>"
      ]
     },
     "metadata": {
      "needs_background": "light"
     },
     "output_type": "display_data"
    }
   ],
   "source": [
    "# Plotagem do Gráfico para visualização do \"cotovelo\" - Método de Elbow\n",
    "# Ao final do Estudo do Metodo de Elbow a seguir, foram gerados 11 clusters\n",
    "plt.plot(range(1, maxclusters), wcsse)\n",
    "plt.title('O Metodo Elbow')\n",
    "plt.xlabel('Qtde, de Clusters')\n",
    "plt.ylabel('WCSSE') # Within Cluster Sum of Squares\n",
    "plt.show()"
   ]
  },
  {
   "cell_type": "code",
   "execution_count": 14,
   "id": "0f6dcb04",
   "metadata": {},
   "outputs": [
    {
     "data": {
      "text/plain": [
       "array([3])"
      ]
     },
     "execution_count": 14,
     "metadata": {},
     "output_type": "execute_result"
    }
   ],
   "source": [
    "#Previsão 1\n",
    "newcustomer1= [ [1, 1, 1, 1, 0, 1, 1, 1, 1, 1,1, 1, 1, 0, 1, 1, 1, 1, 1, 0, 1, 1, 1, 1, 1] ]\n",
    "kmeans.predict(newcustomer1)"
   ]
  },
  {
   "cell_type": "code",
   "execution_count": 15,
   "id": "220183fd",
   "metadata": {},
   "outputs": [
    {
     "data": {
      "text/plain": [
       "array([2])"
      ]
     },
     "execution_count": 15,
     "metadata": {},
     "output_type": "execute_result"
    }
   ],
   "source": [
    "#Previsão 2\n",
    "newcustomer1= [ [1, 1, 1, 1, 1, 1, 1, 1, 1, 1,1, 1, 1, 1, 1, 1, 1, 1, 1, 1, 1, 1, 1, 1, 1] ]\n",
    "kmeans.predict(newcustomer1)"
   ]
  },
  {
   "cell_type": "code",
   "execution_count": null,
   "id": "81fc3337",
   "metadata": {},
   "outputs": [],
   "source": []
  }
 ],
 "metadata": {
  "kernelspec": {
   "display_name": "Python 3",
   "language": "python",
   "name": "python3"
  },
  "language_info": {
   "codemirror_mode": {
    "name": "ipython",
    "version": 3
   },
   "file_extension": ".py",
   "mimetype": "text/x-python",
   "name": "python",
   "nbconvert_exporter": "python",
   "pygments_lexer": "ipython3",
   "version": "3.9.5"
  }
 },
 "nbformat": 4,
 "nbformat_minor": 5
}
