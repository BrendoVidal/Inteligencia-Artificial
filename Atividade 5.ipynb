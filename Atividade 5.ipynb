{
 "cells": [
  {
   "cell_type": "markdown",
   "id": "9f65ca56",
   "metadata": {},
   "source": [
    "# Inteligência Artificial - Laboratório 7: Regressão Linear com Python\n",
    "## Aluno: Brendo Bubela Vidal"
   ]
  },
  {
   "cell_type": "code",
   "execution_count": 1,
   "id": "3cb8184c",
   "metadata": {},
   "outputs": [],
   "source": [
    "# Importação de Bibliotecas\n",
    "import matplotlib.pyplot as plt\n",
    "import numpy as np\n",
    "from sklearn.linear_model import LinearRegression"
   ]
  },
  {
   "cell_type": "code",
   "execution_count": 2,
   "id": "75e2f175",
   "metadata": {},
   "outputs": [
    {
     "data": {
      "text/plain": [
       "(array([[1.8],\n",
       "        [1.2],\n",
       "        [0.4],\n",
       "        [0.5],\n",
       "        [2.5],\n",
       "        [2.5]]),\n",
       " array([104,  68,  39,  43, 134, 127]))"
      ]
     },
     "execution_count": 2,
     "metadata": {},
     "output_type": "execute_result"
    }
   ],
   "source": [
    "# Criação de Dados, sendo x = Valor de Vendas (R$ milhões) / y = Investimento em Publicidade (R$ milhões)\n",
    "x = np.array([1.8, 1.2, 0.4, 0.5, 2.5, 2.5]).reshape((-1, 1)) # reshape converte array para 2 dimensões\n",
    "                                                                                                    # x.reshape((-1, 1))\n",
    "y = np.array([104, 68, 39, 43, 134, 127])\n",
    "x, y"
   ]
  },
  {
   "cell_type": "code",
   "execution_count": 3,
   "id": "560cec9e",
   "metadata": {},
   "outputs": [
    {
     "data": {
      "image/png": "[encoded data removed]",
      "text/plain": [
       "<Figure size 432x288 with 1 Axes>"
      ]
     },
     "metadata": {
      "needs_background": "light"
     },
     "output_type": "display_data"
    }
   ],
   "source": [
    "# Plotagem do Gráfico de Dispersão dos Dados usados no treinamento\n",
    "plt.scatter(x, y,  color='blue', linewidth=3)\n",
    "plt.xlabel('Investimento em Publicidade (R$ milhões)')\n",
    "plt.ylabel('Valor de Vendas (R$ milhões)')\n",
    "plt.show()"
   ]
  },
  {
   "cell_type": "code",
   "execution_count": 4,
   "id": "48617cc5",
   "metadata": {},
   "outputs": [],
   "source": [
    "# Criação do modelo de Regressão linear\n",
    "model = LinearRegression()"
   ]
  },
  {
   "cell_type": "code",
   "execution_count": 5,
   "id": "20d82670",
   "metadata": {},
   "outputs": [
    {
     "data": {
      "text/plain": [
       "LinearRegression()"
      ]
     },
     "execution_count": 5,
     "metadata": {},
     "output_type": "execute_result"
    }
   ],
   "source": [
    "# Treino do modelo com os Dados\n",
    "model.fit(x, y)"
   ]
  },
  {
   "cell_type": "code",
   "execution_count": 6,
   "id": "86a84b66",
   "metadata": {},
   "outputs": [
    {
     "name": "stdout",
     "output_type": "stream",
     "text": [
      "coefficient of determination: 0.9917535159070483\n"
     ]
    }
   ],
   "source": [
    "# Cálculo do Coeficiente de Determinação R2 (quanto mais próximo de 1, melhor o modelo!)\n",
    "r_sq = model.score(x, y)\n",
    "print('coefficient of determination:', r_sq)"
   ]
  },
  {
   "cell_type": "code",
   "execution_count": 7,
   "id": "e2a19148",
   "metadata": {},
   "outputs": [
    {
     "data": {
      "text/plain": [
       "11.944803139637928"
      ]
     },
     "execution_count": 7,
     "metadata": {},
     "output_type": "execute_result"
    }
   ],
   "source": [
    "# Cálculo de MSE (Mean Squared Error)\n",
    "np.mean((model.predict(x)-y)**2)"
   ]
  },
  {
   "cell_type": "code",
   "execution_count": 8,
   "id": "52ac9854",
   "metadata": {},
   "outputs": [
    {
     "name": "stdout",
     "output_type": "stream",
     "text": [
      "b0 ou intercept: 20.094568932776298\n",
      "b1 ou coeficiente (slope): [44.31826814]\n"
     ]
    }
   ],
   "source": [
    "# Admitindo a Equação da Regressão Linear: 𝑓(𝑥) = 𝑏₀ + 𝑏₁𝑥\n",
    "print('b0 ou intercept:', model.intercept_)\n",
    "print('b1 ou coeficiente (slope):', model.coef_)"
   ]
  },
  {
   "cell_type": "code",
   "execution_count": 9,
   "id": "31416edb",
   "metadata": {},
   "outputs": [
    {
     "name": "stdout",
     "output_type": "stream",
     "text": [
      "Valor de Vendas esperado: R$ 117.59 milhões\n"
     ]
    }
   ],
   "source": [
    "# Para um Valor de R$ 2.2 milhões de Investimento em Publicidade, qual a valor de Vendas esperado?\n",
    "x_prev = np.array([[2.2]])\n",
    "y_prev = model.predict(x_prev)\n",
    "print(\"Valor de Vendas esperado: R$ {0:5.2f} milhões\".format(y_prev[0]))"
   ]
  },
  {
   "cell_type": "code",
   "execution_count": null,
   "id": "dd09c054",
   "metadata": {},
   "outputs": [],
   "source": []
  }
 ],
 "metadata": {
  "kernelspec": {
   "display_name": "Python 3",
   "language": "python",
   "name": "python3"
  },
  "language_info": {
   "codemirror_mode": {
    "name": "ipython",
    "version": 3
   },
   "file_extension": ".py",
   "mimetype": "text/x-python",
   "name": "python",
   "nbconvert_exporter": "python",
   "pygments_lexer": "ipython3",
   "version": "3.9.5"
  }
 },
 "nbformat": 4,
 "nbformat_minor": 5
}
