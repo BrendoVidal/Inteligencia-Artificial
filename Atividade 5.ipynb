{
 "cells": [
  {
   "cell_type": "markdown",
   "id": "79e750a4",
   "metadata": {},
   "source": [
    "# Inteligência Artificial - Laboratório 7: Regressão Linear com Python\n",
    "## Aluno: Brendo Bubela Vidal"
   ]
  },
  {
   "cell_type": "code",
   "execution_count": 1,
   "id": "4f107a39",
   "metadata": {},
   "outputs": [],
   "source": [
    "# Importação de Bibliotecas\n",
    "import pandas as pd\n",
    "from sklearn.model_selection import train_test_split\n",
    "import matplotlib.pyplot as plt\n",
    "import numpy as np\n",
    "from sklearn.linear_model import LinearRegression"
   ]
  },
  {
   "cell_type": "code",
   "execution_count": 2,
   "id": "950eb056",
   "metadata": {},
   "outputs": [
    {
     "data": {
      "text/html": [
       "<div>\n",
       "<style scoped>\n",
       "    .dataframe tbody tr th:only-of-type {\n",
       "        vertical-align: middle;\n",
       "    }\n",
       "\n",
       "    .dataframe tbody tr th {\n",
       "        vertical-align: top;\n",
       "    }\n",
       "\n",
       "    .dataframe thead th {\n",
       "        text-align: right;\n",
       "    }\n",
       "</style>\n",
       "<table border=\"1\" class=\"dataframe\">\n",
       "  <thead>\n",
       "    <tr style=\"text-align: right;\">\n",
       "      <th></th>\n",
       "      <th>houseSize</th>\n",
       "      <th>lotSize</th>\n",
       "      <th>bedrooms</th>\n",
       "      <th>granite</th>\n",
       "      <th>bathroom</th>\n",
       "      <th>sellingPrice</th>\n",
       "    </tr>\n",
       "  </thead>\n",
       "  <tbody>\n",
       "    <tr>\n",
       "      <th>0</th>\n",
       "      <td>3529</td>\n",
       "      <td>9191</td>\n",
       "      <td>6</td>\n",
       "      <td>0</td>\n",
       "      <td>0</td>\n",
       "      <td>205000</td>\n",
       "    </tr>\n",
       "    <tr>\n",
       "      <th>1</th>\n",
       "      <td>3247</td>\n",
       "      <td>10061</td>\n",
       "      <td>5</td>\n",
       "      <td>1</td>\n",
       "      <td>1</td>\n",
       "      <td>224900</td>\n",
       "    </tr>\n",
       "    <tr>\n",
       "      <th>2</th>\n",
       "      <td>4032</td>\n",
       "      <td>10150</td>\n",
       "      <td>5</td>\n",
       "      <td>0</td>\n",
       "      <td>1</td>\n",
       "      <td>197900</td>\n",
       "    </tr>\n",
       "    <tr>\n",
       "      <th>3</th>\n",
       "      <td>2397</td>\n",
       "      <td>14156</td>\n",
       "      <td>4</td>\n",
       "      <td>1</td>\n",
       "      <td>0</td>\n",
       "      <td>189900</td>\n",
       "    </tr>\n",
       "    <tr>\n",
       "      <th>4</th>\n",
       "      <td>2200</td>\n",
       "      <td>9600</td>\n",
       "      <td>4</td>\n",
       "      <td>0</td>\n",
       "      <td>1</td>\n",
       "      <td>195000</td>\n",
       "    </tr>\n",
       "    <tr>\n",
       "      <th>5</th>\n",
       "      <td>3536</td>\n",
       "      <td>19994</td>\n",
       "      <td>6</td>\n",
       "      <td>1</td>\n",
       "      <td>1</td>\n",
       "      <td>325000</td>\n",
       "    </tr>\n",
       "    <tr>\n",
       "      <th>6</th>\n",
       "      <td>2983</td>\n",
       "      <td>9365</td>\n",
       "      <td>5</td>\n",
       "      <td>0</td>\n",
       "      <td>1</td>\n",
       "      <td>230000</td>\n",
       "    </tr>\n",
       "  </tbody>\n",
       "</table>\n",
       "</div>"
      ],
      "text/plain": [
       "   houseSize  lotSize  bedrooms  granite  bathroom  sellingPrice\n",
       "0       3529     9191         6        0         0        205000\n",
       "1       3247    10061         5        1         1        224900\n",
       "2       4032    10150         5        0         1        197900\n",
       "3       2397    14156         4        1         0        189900\n",
       "4       2200     9600         4        0         1        195000\n",
       "5       3536    19994         6        1         1        325000\n",
       "6       2983     9365         5        0         1        230000"
      ]
     },
     "execution_count": 2,
     "metadata": {},
     "output_type": "execute_result"
    }
   ],
   "source": [
    "url = 'https://raw.githubusercontent.com/BrendoVidal/Inteligencia-Artificial/main/house.csv'\n",
    "df = pd.read_csv(url, delimiter=';', error_bad_lines=False)\n",
    "df"
   ]
  },
  {
   "cell_type": "code",
   "execution_count": 3,
   "id": "d0373826",
   "metadata": {},
   "outputs": [
    {
     "name": "stdout",
     "output_type": "stream",
     "text": [
      "   houseSize  lotSize  bedrooms  granite  bathroom\n",
      "0       3529     9191         6        0         0\n",
      "1       3247    10061         5        1         1\n",
      "2       4032    10150         5        0         1\n",
      "3       2397    14156         4        1         0\n",
      "4       2200     9600         4        0         1\n",
      "5       3536    19994         6        1         1\n",
      "6       2983     9365         5        0         1\n",
      "0    205000\n",
      "1    224900\n",
      "2    197900\n",
      "3    189900\n",
      "4    195000\n",
      "5    325000\n",
      "6    230000\n",
      "Name: sellingPrice, dtype: int64\n"
     ]
    }
   ],
   "source": [
    "#Separação de features e target\n",
    "x = df.drop(['sellingPrice'], axis=1)\n",
    "y = df['sellingPrice']\n",
    "print(x) #features\n",
    "print(y) #target"
   ]
  },
  {
   "cell_type": "code",
   "execution_count": 4,
   "id": "72969517",
   "metadata": {},
   "outputs": [],
   "source": [
    "#Separando dados de Treinamento (70%) e Testes (30%)\n",
    "Xtrain, Xval, Ytrain, Yval = train_test_split(x, y, test_size=0.3, random_state=0)"
   ]
  },
  {
   "cell_type": "code",
   "execution_count": 5,
   "id": "6e2ba710",
   "metadata": {},
   "outputs": [],
   "source": [
    "# Criação do modelo de Regressão linear\n",
    "model = LinearRegression()"
   ]
  },
  {
   "cell_type": "code",
   "execution_count": 6,
   "id": "e3f4f2d9",
   "metadata": {},
   "outputs": [
    {
     "data": {
      "text/plain": [
       "LinearRegression()"
      ]
     },
     "execution_count": 6,
     "metadata": {},
     "output_type": "execute_result"
    }
   ],
   "source": [
    "# Treino do modelo com os Dados\n",
    "model.fit(x, y)"
   ]
  },
  {
   "cell_type": "code",
   "execution_count": 7,
   "id": "3e994c1e",
   "metadata": {},
   "outputs": [
    {
     "name": "stdout",
     "output_type": "stream",
     "text": [
      "coefficient of determination: 0.9920674619561792\n"
     ]
    }
   ],
   "source": [
    "# Cálculo do Coeficiente de Determinação R2 (quanto mais próximo de 1, melhor o modelo!)\n",
    "r_sq = model.score(x, y)\n",
    "print('coefficient of determination:', r_sq)"
   ]
  },
  {
   "cell_type": "code",
   "execution_count": 8,
   "id": "cbe65f45",
   "metadata": {},
   "outputs": [
    {
     "data": {
      "text/plain": [
       "15053483.550410334"
      ]
     },
     "execution_count": 8,
     "metadata": {},
     "output_type": "execute_result"
    }
   ],
   "source": [
    "# Cálculo de MSE (Mean Squared Error)\n",
    "np.mean((model.predict(x)-y)**2)"
   ]
  },
  {
   "cell_type": "code",
   "execution_count": 9,
   "id": "e9b9f912",
   "metadata": {},
   "outputs": [
    {
     "name": "stdout",
     "output_type": "stream",
     "text": [
      "b0 ou intercept: -21739.29666506665\n",
      "b1 ou coeficiente (slope): [-2.69307835e+01  6.33452410e+00  4.42937606e+04  7.14067629e+03\n",
      "  4.31791999e+04]\n"
     ]
    }
   ],
   "source": [
    "# Admitindo a Equação da Regressão Linear: 𝑓(𝑥) = 𝑏₀ + 𝑏₁𝑥\n",
    "print('b0 ou intercept:', model.intercept_)\n",
    "print('b1 ou coeficiente (slope):', model.coef_)"
   ]
  },
  {
   "cell_type": "code",
   "execution_count": null,
   "id": "d1fc430c",
   "metadata": {},
   "outputs": [],
   "source": []
  }
 ],
 "metadata": {
  "kernelspec": {
   "display_name": "Python 3",
   "language": "python",
   "name": "python3"
  },
  "language_info": {
   "codemirror_mode": {
    "name": "ipython",
    "version": 3
   },
   "file_extension": ".py",
   "mimetype": "text/x-python",
   "name": "python",
   "nbconvert_exporter": "python",
   "pygments_lexer": "ipython3",
   "version": "3.9.5"
  }
 },
 "nbformat": 4,
 "nbformat_minor": 5
}
